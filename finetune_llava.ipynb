{
 "cells": [
  {
   "cell_type": "markdown",
   "metadata": {
    "id": "Szf17AKL89qm"
   },
   "source": [
    "By Rio Aguina-Kang\n",
    "\n",
    "Much of this notebook is taken from https://github.com/NielsRogge/Transformers-Tutorials/blob/master/LLaVa/Fine_tune_LLaVa_on_a_custom_dataset_(with_PyTorch_Lightning).ipynb"
   ]
  },
  {
   "cell_type": "code",
   "execution_count": 53,
   "metadata": {
    "id": "LJtnWc3b89qn"
   },
   "outputs": [],
   "source": [
    "MAX_LENGTH = 384\n",
    "MODEL_ID = \"llava-hf/llava-1.5-7b-hf\"\n",
    "# REPO_ID = \"\"\n",
    "WANDB_PROJECT = \"LLaVa\"\n",
    "WANDB_NAME = \"llava-demo-pokemon\"\n",
    "IMAGE_DIR = 'real_pokemon_data/images'"
   ]
  },
  {
   "cell_type": "markdown",
   "metadata": {
    "id": "sqEY8CKq89qo"
   },
   "source": [
    "## Load dataset & Models"
   ]
  },
  {
   "cell_type": "code",
   "execution_count": 54,
   "metadata": {
    "id": "rsDFIa1u89qo",
    "outputId": "04706c10-de2c-4697-b967-9faf8c4aa143"
   },
   "outputs": [],
   "source": [
    "import json\n",
    "\n",
    "# Function to load JSON data\n",
    "def load_json(json_path: str):\n",
    "    \"\"\"\n",
    "    Load a JSON file.\n",
    "    \n",
    "    Args:\n",
    "        json_path (str): Path to the JSON file.\n",
    "        \n",
    "    Returns:\n",
    "        List[Dict]: Loaded JSON data as a list of dictionaries.\n",
    "    \"\"\"\n",
    "    with open(json_path, 'r') as file:\n",
    "        return json.load(file)\n",
    "\n",
    "# Load the train, validation, and test JSONs\n",
    "train_data = load_json('real_pokemon_data/train/dataset.json')\n",
    "val_data = load_json('real_pokemon_data/validation/dataset.json')\n",
    "test_data = load_json('real_pokemon_data/test/dataset.json')\n"
   ]
  },
  {
   "cell_type": "code",
   "execution_count": 55,
   "metadata": {
    "id": "6XW3qVty89qq",
    "outputId": "c8ec0f67-0f56-4f16-f3f9-7af975d0904b"
   },
   "outputs": [],
   "source": [
    "from transformers import AutoProcessor\n",
    "\n",
    "processor = AutoProcessor.from_pretrained(MODEL_ID)\n",
    "processor.tokenizer.padding_side = \"right\" # during training, one always uses padding on the right"
   ]
  },
  {
   "cell_type": "code",
   "execution_count": 6,
   "metadata": {
    "id": "PCbRwGgU89qq",
    "outputId": "f3dcec0e-6b03-407c-ecee-992259c39175"
   },
   "outputs": [
    {
     "name": "stderr",
     "output_type": "stream",
     "text": [
      "`low_cpu_mem_usage` was None, now default to True since model is quantized.\n"
     ]
    },
    {
     "data": {
      "application/vnd.jupyter.widget-view+json": {
       "model_id": "7af013bfd7f64e6e944c3ed09da86546",
       "version_major": 2,
       "version_minor": 0
      },
      "text/plain": [
       "Loading checkpoint shards:   0%|          | 0/3 [00:00<?, ?it/s]"
      ]
     },
     "metadata": {},
     "output_type": "display_data"
    }
   ],
   "source": [
    "from transformers import BitsAndBytesConfig, LlavaForConditionalGeneration\n",
    "import torch\n",
    "\n",
    "USE_LORA = False\n",
    "USE_QLORA = True\n",
    "\n",
    "## Load model\n",
    "\n",
    "# Three options for training, from the lowest precision training to the highest precision training:\n",
    "# - QLora\n",
    "# - Standard Lora\n",
    "# - Full fine-tuning\n",
    "if USE_QLORA or USE_LORA:\n",
    "    if USE_QLORA:\n",
    "        bnb_config = BitsAndBytesConfig(\n",
    "            load_in_4bit=True, bnb_4bit_quant_type=\"nf4\", bnb_4bit_compute_dtype=torch.float16\n",
    "        )\n",
    "    model = LlavaForConditionalGeneration.from_pretrained(\n",
    "        MODEL_ID,\n",
    "        torch_dtype=torch.float16,\n",
    "        quantization_config=bnb_config,\n",
    "    )\n",
    "else:\n",
    "    # for full fine-tuning, we can speed up the model using Flash Attention\n",
    "    # only available on certain devices, see https://github.com/Dao-AILab/flash-attention?tab=readme-ov-file#installation-and-features\n",
    "    model = LlavaForConditionalGeneration.from_pretrained(\n",
    "        MODEL_ID,\n",
    "        torch_dtype=torch.float16,\n",
    "        _attn_implementation=\"flash_attention_2\",\n",
    "    )"
   ]
  },
  {
   "cell_type": "code",
   "execution_count": 7,
   "metadata": {
    "id": "vHMXc9Xb89qq"
   },
   "outputs": [],
   "source": [
    "from peft import LoraConfig, prepare_model_for_kbit_training, get_peft_model\n",
    "\n",
    "\n",
    "def find_all_linear_names(model):\n",
    "    cls = torch.nn.Linear\n",
    "    lora_module_names = set()\n",
    "    multimodal_keywords = ['multi_modal_projector', 'vision_model']\n",
    "    for name, module in model.named_modules():\n",
    "        if any(mm_keyword in name for mm_keyword in multimodal_keywords):\n",
    "            continue\n",
    "        if isinstance(module, cls):\n",
    "            names = name.split('.')\n",
    "            lora_module_names.add(names[0] if len(names) == 1 else names[-1])\n",
    "\n",
    "    if 'lm_head' in lora_module_names: # needed for 16-bit\n",
    "        lora_module_names.remove('lm_head')\n",
    "    return list(lora_module_names)\n",
    "\n",
    "\n",
    "lora_config = LoraConfig(\n",
    "    r=8,\n",
    "    lora_alpha=8,\n",
    "    lora_dropout=0.1,\n",
    "    target_modules=find_all_linear_names(model),\n",
    "    init_lora_weights=\"gaussian\",\n",
    ")\n",
    "\n",
    "model = prepare_model_for_kbit_training(model)\n",
    "model = get_peft_model(model, lora_config)"
   ]
  },
  {
   "cell_type": "markdown",
   "metadata": {},
   "source": [
    "## Make pytorch dataset"
   ]
  },
  {
   "cell_type": "code",
   "execution_count": 8,
   "metadata": {
    "id": "jHNidtY689qq"
   },
   "outputs": [],
   "source": [
    "import os\n",
    "import cv2\n",
    "from torch.utils.data import Dataset\n",
    "from typing import List, Dict, Tuple\n",
    "\n",
    "class LlavaDataset(Dataset):\n",
    "    \"\"\"\n",
    "    PyTorch Dataset for LLaVa. This class takes a JSON dataset with conversations as input.\n",
    "\n",
    "    Each row consists of an image path and associated Q&A pairs.\n",
    "    \"\"\"\n",
    "\n",
    "    def __init__(self, json_data: List[Dict]):\n",
    "        \"\"\"\n",
    "        Args:\n",
    "            json_data (List[Dict]): Loaded JSON data, where each entry contains `image` and `conversations`.\n",
    "        \"\"\"\n",
    "        super().__init__()\n",
    "        self.data = json_data\n",
    "        self.dataset_length = len(self.data)\n",
    "\n",
    "    def __len__(self) -> int:\n",
    "        return self.dataset_length\n",
    "\n",
    "    def __getitem__(self, idx: int) -> Tuple[str, str]:\n",
    "        \"\"\"\n",
    "        Returns one item of the dataset.\n",
    "\n",
    "        Returns:\n",
    "            image (str): The path to the image file.\n",
    "            target_sequence (str): The ground truth sequence (Pokémon type answer).\n",
    "        \"\"\"\n",
    "        sample = self.data[idx]\n",
    "\n",
    "        # Extract image path\n",
    "        image_fn = sample[\"image\"]\n",
    "\n",
    "        image_path = os.path.join(IMAGE_DIR, image_fn)\n",
    "        # print(image_path)\n",
    "\n",
    "        image = cv2.imread(image_path)\n",
    "\n",
    "        # Extract the Pokémon type answer from conversations\n",
    "        target_sequence = \"\"\n",
    "        for conversation in sample[\"conversations\"]:\n",
    "            if conversation[\"from\"] == \"gt\":  # Extract ground truth answer\n",
    "                target_sequence = conversation[\"value\"]\n",
    "                break\n",
    "\n",
    "        return image, target_sequence"
   ]
  },
  {
   "cell_type": "code",
   "execution_count": 9,
   "metadata": {
    "id": "S1AiW6oa89qr",
    "outputId": "3efff66a-a781-4572-f45d-ee9d7d2a806c"
   },
   "outputs": [
    {
     "name": "stdout",
     "output_type": "stream",
     "text": [
      "Train Dataset Size: 628\n",
      "Validation Dataset Size: 180\n",
      "Test Dataset Size: 90\n"
     ]
    }
   ],
   "source": [
    "# Create PyTorch Datasets for train, validation, and test\n",
    "train_dataset = LlavaDataset(train_data)\n",
    "val_dataset = LlavaDataset(val_data)\n",
    "test_dataset = LlavaDataset(test_data)\n",
    "\n",
    "# Example usage\n",
    "image, target_sequence = train_dataset[0]\n",
    "# print(f\"Image: {image}, Target Sequence: {target_sequence}\")\n",
    "\n",
    "# Get the length of the dataset\n",
    "print(f\"Train Dataset Size: {len(train_dataset)}\")\n",
    "print(f\"Validation Dataset Size: {len(val_dataset)}\")\n",
    "print(f\"Test Dataset Size: {len(test_dataset)}\")\n"
   ]
  },
  {
   "cell_type": "markdown",
   "metadata": {
    "id": "WLChlej489qr"
   },
   "source": [
    "## Define collate functions"
   ]
  },
  {
   "cell_type": "code",
   "execution_count": 10,
   "metadata": {
    "id": "NFxVN7OK89qr"
   },
   "outputs": [],
   "source": [
    "def train_collate_fn(examples):\n",
    "    images = []\n",
    "    texts = []\n",
    "    for example in examples:\n",
    "        image, ground_truth = example\n",
    "        images.append(image)\n",
    "        # TODO: in the future we can replace this by processor.apply_chat_template\n",
    "        prompt = f\"QUESTION: What Pokémon type is this? <image>\\nANSWER: {ground_truth}\"\n",
    "        texts.append(prompt)\n",
    "\n",
    "    batch = processor(text=texts, images=images, padding=True, truncation=True, max_length=MAX_LENGTH, return_tensors=\"pt\")\n",
    "\n",
    "    labels = batch[\"input_ids\"].clone()\n",
    "    labels[labels == processor.tokenizer.pad_token_id] = -100\n",
    "    batch[\"labels\"] = labels\n",
    "\n",
    "    input_ids = batch[\"input_ids\"]\n",
    "    attention_mask = batch[\"attention_mask\"]\n",
    "    pixel_values = batch[\"pixel_values\"]\n",
    "    labels = batch[\"labels\"]\n",
    "\n",
    "    return input_ids, attention_mask, pixel_values, labels\n",
    "\n",
    "\n",
    "def eval_collate_fn(examples):\n",
    "    # we only feed the prompt to the model\n",
    "    images = []\n",
    "    texts = []\n",
    "    answers = []\n",
    "    for example in examples:\n",
    "        image, ground_truth = example\n",
    "        images.append(image)\n",
    "        # TODO: in the future we can replace this by processor.apply_chat_template\n",
    "        prompt = f\"QUESTION: What Pokémon type is this? <image>\\nANSWER:\"\n",
    "        texts.append(prompt)\n",
    "        answers.append(ground_truth)\n",
    "\n",
    "    batch = processor(text=texts, images=images, return_tensors=\"pt\", padding=True)\n",
    "\n",
    "    input_ids = batch[\"input_ids\"]\n",
    "    attention_mask = batch[\"attention_mask\"]\n",
    "    pixel_values = batch[\"pixel_values\"]\n",
    "\n",
    "    return input_ids, attention_mask, pixel_values, answers"
   ]
  },
  {
   "cell_type": "markdown",
   "metadata": {
    "id": "BCKx3T0I89qr"
   },
   "source": [
    "## Define PyTorch LightningModule"
   ]
  },
  {
   "cell_type": "code",
   "execution_count": 11,
   "metadata": {
    "id": "B0vMexZs89qr"
   },
   "outputs": [],
   "source": [
    "import lightning as L\n",
    "from torch.utils.data import DataLoader\n",
    "import re\n",
    "from nltk import edit_distance\n",
    "import numpy as np\n",
    "\n",
    "\n",
    "class LlavaModelPLModule(L.LightningModule):\n",
    "    def __init__(self, config, processor, model):\n",
    "        super().__init__()\n",
    "        self.config = config\n",
    "        self.processor = processor\n",
    "        self.model = model\n",
    "\n",
    "        self.batch_size = config.get(\"batch_size\")\n",
    "\n",
    "    def training_step(self, batch, batch_idx):\n",
    "\n",
    "        input_ids, attention_mask, pixel_values, labels = batch\n",
    "\n",
    "        outputs = self.model(input_ids=input_ids,\n",
    "                                attention_mask=attention_mask,\n",
    "                                pixel_values=pixel_values,\n",
    "                                labels=labels)\n",
    "        loss = outputs.loss\n",
    "\n",
    "        self.log(\"train_loss\", loss)\n",
    "\n",
    "        return loss\n",
    "\n",
    "    def validation_step(self, batch, batch_idx, dataset_idx=0):\n",
    "\n",
    "        input_ids, attention_mask, pixel_values, answers = batch\n",
    "\n",
    "        # autoregressively generate token IDs\n",
    "        generated_ids = self.model.generate(input_ids=input_ids, attention_mask=attention_mask,\n",
    "                                       pixel_values=pixel_values, max_new_tokens=MAX_LENGTH)\n",
    "        # turn them back into text, chopping of the prompt\n",
    "        # important: we don't skip special tokens here, because we want to see them in the output\n",
    "        predictions = self.processor.batch_decode(generated_ids[:, input_ids.size(1):], skip_special_tokens=True)\n",
    "\n",
    "        scores = []\n",
    "        for pred, answer in zip(predictions, answers):\n",
    "            pred = re.sub(r\"(?:(?<=>) | (?=</s_))\", \"\", pred)\n",
    "            scores.append(edit_distance(pred, answer) / max(len(pred), len(answer)))\n",
    "\n",
    "            if self.config.get(\"verbose\", False) and len(scores) == 1:\n",
    "                print(f\"Prediction: {pred}\")\n",
    "                print(f\"    Answer: {answer}\")\n",
    "                print(f\" Normed ED: {scores[0]}\")\n",
    "\n",
    "        self.log(\"val_edit_distance\", np.mean(scores))\n",
    "\n",
    "        return scores\n",
    "\n",
    "    def configure_optimizers(self):\n",
    "        # you could also add a learning rate scheduler if you want\n",
    "        optimizer = torch.optim.AdamW(self.parameters(), lr=self.config.get(\"lr\"))\n",
    "\n",
    "        return optimizer\n",
    "\n",
    "    def train_dataloader(self):\n",
    "        return DataLoader(train_dataset, collate_fn=train_collate_fn, batch_size=self.batch_size, shuffle=True, num_workers=4)\n",
    "\n",
    "    def val_dataloader(self):\n",
    "        return DataLoader(val_dataset, collate_fn=eval_collate_fn, batch_size=self.batch_size, shuffle=False, num_workers=4)"
   ]
  },
  {
   "cell_type": "markdown",
   "metadata": {
    "id": "Ke22hzKm89qr"
   },
   "source": [
    "#### Define hyperparams"
   ]
  },
  {
   "cell_type": "code",
   "execution_count": 12,
   "metadata": {
    "id": "hOBWa7lt89qr"
   },
   "outputs": [],
   "source": [
    "config = {\"max_epochs\": 10,\n",
    "          # \"val_check_interval\": 0.2, # how many times we want to validate during an epoch\n",
    "          \"check_val_every_n_epoch\": 1,\n",
    "          \"gradient_clip_val\": 1.0,\n",
    "          \"accumulate_grad_batches\": 8,\n",
    "          \"lr\": 1e-4,\n",
    "          \"batch_size\": 2,\n",
    "          \"seed\":2022,\n",
    "          \"num_nodes\": 1,\n",
    "          \"warmup_steps\": 50,\n",
    "          \"result_path\": \"./result\",\n",
    "          \"verbose\": True,\n",
    "}\n",
    "\n",
    "model_module = LlavaModelPLModule(config, processor, model)"
   ]
  },
  {
   "cell_type": "markdown",
   "metadata": {
    "id": "TAENA-Rx89qr"
   },
   "source": [
    "## Define callbacks if using huggingface spaces"
   ]
  },
  {
   "cell_type": "code",
   "execution_count": 13,
   "metadata": {
    "id": "qpy69j-V89qs"
   },
   "outputs": [],
   "source": [
    "# from lightning.pytorch.callbacks import Callback\n",
    "# from lightning.pytorch.callbacks.early_stopping import EarlyStopping\n",
    "\n",
    "# from huggingface_hub import HfApi\n",
    "\n",
    "# api = HfApi()\n",
    "\n",
    "# class PushToHubCallback(Callback):\n",
    "#     def on_train_epoch_end(self, trainer, pl_module):\n",
    "#         print(f\"Pushing model to the hub, epoch {trainer.current_epoch}\")\n",
    "#         pl_module.model.push_to_hub(REPO_ID,\n",
    "#                                     commit_message=f\"Training in progress, epoch {trainer.current_epoch}\")\n",
    "\n",
    "#     def on_train_end(self, trainer, pl_module):\n",
    "#         print(f\"Pushing model to the hub after training\")\n",
    "#         pl_module.processor.push_to_hub(REPO_ID,\n",
    "#                                     commit_message=f\"Training done\")\n",
    "#         pl_module.model.push_to_hub(REPO_ID,\n",
    "#                                     commit_message=f\"Training done\")\n",
    "\n",
    "# early_stop_callback = EarlyStopping(monitor=\"val_edit_distance\", patience=3, verbose=False, mode=\"min\")"
   ]
  },
  {
   "cell_type": "markdown",
   "metadata": {
    "id": "SIr62vI-89qs"
   },
   "source": [
    "## Train\n",
    "\n",
    "logging on weights and biases"
   ]
  },
  {
   "cell_type": "code",
   "execution_count": 16,
   "metadata": {
    "id": "OOvYRTRA89qs",
    "outputId": "ecd5a2aa-66b1-48ae-d13b-17d32d82b157"
   },
   "outputs": [
    {
     "name": "stderr",
     "output_type": "stream",
     "text": [
      "Using 16bit Automatic Mixed Precision (AMP)\n",
      "GPU available: True (cuda), used: True\n",
      "TPU available: False, using: 0 TPU cores\n",
      "HPU available: False, using: 0 HPUs\n",
      "/opt/venv/lib/python3.10/site-packages/lightning/pytorch/loggers/wandb.py:396: There is a wandb run already in progress and newly created instances of `WandbLogger` will reuse this run. If this is not desired, call `wandb.finish()` before instantiating `WandbLogger`.\n",
      "LOCAL_RANK: 0 - CUDA_VISIBLE_DEVICES: [0,1]\n",
      "\n",
      "  | Name  | Type      | Params | Mode \n",
      "--------------------------------------------\n",
      "0 | model | PeftModel | 3.7 B  | train\n",
      "--------------------------------------------\n",
      "21.2 M    Trainable params\n",
      "3.7 B     Non-trainable params\n",
      "3.7 B     Total params\n",
      "14,740.447Total estimated model params size (MB)\n",
      "2962      Modules in train mode\n",
      "757       Modules in eval mode\n"
     ]
    },
    {
     "data": {
      "application/vnd.jupyter.widget-view+json": {
       "model_id": "a707584abe724301b6fa0224b21754d4",
       "version_major": 2,
       "version_minor": 0
      },
      "text/plain": [
       "Training: |          | 0/? [00:00<?, ?it/s]"
      ]
     },
     "metadata": {},
     "output_type": "display_data"
    },
    {
     "name": "stderr",
     "output_type": "stream",
     "text": [
      "Expanding inputs for image tokens in LLaVa should be done in processing. Please add `patch_size` and `vision_feature_select_strategy` to the model's processing config or set directly with `processor.patch_size = {{patch_size}}` and processor.vision_feature_select_strategy = {{vision_feature_select_strategy}}`. Using processors without these attributes in the config is deprecated and will throw an error in v4.47.\n",
      "Expanding inputs for image tokens in LLaVa should be done in processing. Please add `patch_size` and `vision_feature_select_strategy` to the model's processing config or set directly with `processor.patch_size = {{patch_size}}` and processor.vision_feature_select_strategy = {{vision_feature_select_strategy}}`. Using processors without these attributes in the config is deprecated and will throw an error in v4.47.\n",
      "Expanding inputs for image tokens in LLaVa should be done in processing. Please add `patch_size` and `vision_feature_select_strategy` to the model's processing config or set directly with `processor.patch_size = {{patch_size}}` and processor.vision_feature_select_strategy = {{vision_feature_select_strategy}}`. Using processors without these attributes in the config is deprecated and will throw an error in v4.47.\n",
      "Expanding inputs for image tokens in LLaVa should be done in processing. Please add `patch_size` and `vision_feature_select_strategy` to the model's processing config or set directly with `processor.patch_size = {{patch_size}}` and processor.vision_feature_select_strategy = {{vision_feature_select_strategy}}`. Using processors without these attributes in the config is deprecated and will throw an error in v4.47.\n"
     ]
    },
    {
     "data": {
      "application/vnd.jupyter.widget-view+json": {
       "model_id": "",
       "version_major": 2,
       "version_minor": 0
      },
      "text/plain": [
       "Validation: |          | 0/? [00:00<?, ?it/s]"
      ]
     },
     "metadata": {},
     "output_type": "display_data"
    },
    {
     "name": "stderr",
     "output_type": "stream",
     "text": [
      "Expanding inputs for image tokens in LLaVa should be done in processing. Please add `patch_size` and `vision_feature_select_strategy` to the model's processing config or set directly with `processor.patch_size = {{patch_size}}` and processor.vision_feature_select_strategy = {{vision_feature_select_strategy}}`. Using processors without these attributes in the config is deprecated and will throw an error in v4.47.\n",
      "Expanding inputs for image tokens in LLaVa should be done in processing. Please add `patch_size` and `vision_feature_select_strategy` to the model's processing config or set directly with `processor.patch_size = {{patch_size}}` and processor.vision_feature_select_strategy = {{vision_feature_select_strategy}}`. Using processors without these attributes in the config is deprecated and will throw an error in v4.47.\n",
      "Expanding inputs for image tokens in LLaVa should be done in processing. Please add `patch_size` and `vision_feature_select_strategy` to the model's processing config or set directly with `processor.patch_size = {{patch_size}}` and processor.vision_feature_select_strategy = {{vision_feature_select_strategy}}`. Using processors without these attributes in the config is deprecated and will throw an error in v4.47.\n",
      "Expanding inputs for image tokens in LLaVa should be done in processing. Please add `patch_size` and `vision_feature_select_strategy` to the model's processing config or set directly with `processor.patch_size = {{patch_size}}` and processor.vision_feature_select_strategy = {{vision_feature_select_strategy}}`. Using processors without these attributes in the config is deprecated and will throw an error in v4.47.\n"
     ]
    },
    {
     "name": "stdout",
     "output_type": "stream",
     "text": [
      "Prediction: psychic\n",
      "    Answer: normal\n",
      " Normed ED: 1.0\n"
     ]
    },
    {
     "name": "stderr",
     "output_type": "stream",
     "text": [
      "/opt/venv/lib/python3.10/site-packages/lightning/pytorch/utilities/data.py:78: Trying to infer the `batch_size` from an ambiguous collection. The batch size we found is 2. To avoid any miscalculations, use `self.log(..., batch_size=batch_size)`.\n"
     ]
    },
    {
     "name": "stdout",
     "output_type": "stream",
     "text": [
      "Prediction: fire\n",
      "    Answer: fire\n",
      " Normed ED: 0.0\n",
      "Prediction: electric\n",
      "    Answer: normal\n",
      " Normed ED: 1.0\n",
      "Prediction: water\n",
      "    Answer: grass\n",
      " Normed ED: 1.0\n",
      "Prediction: dark\n",
      "    Answer: normal\n",
      " Normed ED: 0.8333333333333334\n"
     ]
    },
    {
     "name": "stderr",
     "output_type": "stream",
     "text": [
      "Expanding inputs for image tokens in LLaVa should be done in processing. Please add `patch_size` and `vision_feature_select_strategy` to the model's processing config or set directly with `processor.patch_size = {{patch_size}}` and processor.vision_feature_select_strategy = {{vision_feature_select_strategy}}`. Using processors without these attributes in the config is deprecated and will throw an error in v4.47.\n",
      "Expanding inputs for image tokens in LLaVa should be done in processing. Please add `patch_size` and `vision_feature_select_strategy` to the model's processing config or set directly with `processor.patch_size = {{patch_size}}` and processor.vision_feature_select_strategy = {{vision_feature_select_strategy}}`. Using processors without these attributes in the config is deprecated and will throw an error in v4.47.\n",
      "Expanding inputs for image tokens in LLaVa should be done in processing. Please add `patch_size` and `vision_feature_select_strategy` to the model's processing config or set directly with `processor.patch_size = {{patch_size}}` and processor.vision_feature_select_strategy = {{vision_feature_select_strategy}}`. Using processors without these attributes in the config is deprecated and will throw an error in v4.47.\n",
      "Expanding inputs for image tokens in LLaVa should be done in processing. Please add `patch_size` and `vision_feature_select_strategy` to the model's processing config or set directly with `processor.patch_size = {{patch_size}}` and processor.vision_feature_select_strategy = {{vision_feature_select_strategy}}`. Using processors without these attributes in the config is deprecated and will throw an error in v4.47.\n",
      "Expanding inputs for image tokens in LLaVa should be done in processing. Please add `patch_size` and `vision_feature_select_strategy` to the model's processing config or set directly with `processor.patch_size = {{patch_size}}` and processor.vision_feature_select_strategy = {{vision_feature_select_strategy}}`. Using processors without these attributes in the config is deprecated and will throw an error in v4.47.\n",
      "Expanding inputs for image tokens in LLaVa should be done in processing. Please add `patch_size` and `vision_feature_select_strategy` to the model's processing config or set directly with `processor.patch_size = {{patch_size}}` and processor.vision_feature_select_strategy = {{vision_feature_select_strategy}}`. Using processors without these attributes in the config is deprecated and will throw an error in v4.47.\n",
      "Expanding inputs for image tokens in LLaVa should be done in processing. Please add `patch_size` and `vision_feature_select_strategy` to the model's processing config or set directly with `processor.patch_size = {{patch_size}}` and processor.vision_feature_select_strategy = {{vision_feature_select_strategy}}`. Using processors without these attributes in the config is deprecated and will throw an error in v4.47.\n",
      "Expanding inputs for image tokens in LLaVa should be done in processing. Please add `patch_size` and `vision_feature_select_strategy` to the model's processing config or set directly with `processor.patch_size = {{patch_size}}` and processor.vision_feature_select_strategy = {{vision_feature_select_strategy}}`. Using processors without these attributes in the config is deprecated and will throw an error in v4.47.\n"
     ]
    },
    {
     "data": {
      "application/vnd.jupyter.widget-view+json": {
       "model_id": "",
       "version_major": 2,
       "version_minor": 0
      },
      "text/plain": [
       "Validation: |          | 0/? [00:00<?, ?it/s]"
      ]
     },
     "metadata": {},
     "output_type": "display_data"
    },
    {
     "name": "stdout",
     "output_type": "stream",
     "text": [
      "Prediction: steel\n",
      "    Answer: normal\n",
      " Normed ED: 0.8333333333333334\n",
      "Prediction: fire\n",
      "    Answer: fire\n",
      " Normed ED: 0.0\n",
      "Prediction: electric\n",
      "    Answer: normal\n",
      " Normed ED: 1.0\n",
      "Prediction: water\n",
      "    Answer: grass\n",
      " Normed ED: 1.0\n",
      "Prediction: fighting\n",
      "    Answer: normal\n",
      " Normed ED: 1.0\n"
     ]
    },
    {
     "name": "stderr",
     "output_type": "stream",
     "text": [
      "Expanding inputs for image tokens in LLaVa should be done in processing. Please add `patch_size` and `vision_feature_select_strategy` to the model's processing config or set directly with `processor.patch_size = {{patch_size}}` and processor.vision_feature_select_strategy = {{vision_feature_select_strategy}}`. Using processors without these attributes in the config is deprecated and will throw an error in v4.47.\n",
      "Expanding inputs for image tokens in LLaVa should be done in processing. Please add `patch_size` and `vision_feature_select_strategy` to the model's processing config or set directly with `processor.patch_size = {{patch_size}}` and processor.vision_feature_select_strategy = {{vision_feature_select_strategy}}`. Using processors without these attributes in the config is deprecated and will throw an error in v4.47.\n",
      "Expanding inputs for image tokens in LLaVa should be done in processing. Please add `patch_size` and `vision_feature_select_strategy` to the model's processing config or set directly with `processor.patch_size = {{patch_size}}` and processor.vision_feature_select_strategy = {{vision_feature_select_strategy}}`. Using processors without these attributes in the config is deprecated and will throw an error in v4.47.\n",
      "Expanding inputs for image tokens in LLaVa should be done in processing. Please add `patch_size` and `vision_feature_select_strategy` to the model's processing config or set directly with `processor.patch_size = {{patch_size}}` and processor.vision_feature_select_strategy = {{vision_feature_select_strategy}}`. Using processors without these attributes in the config is deprecated and will throw an error in v4.47.\n",
      "Expanding inputs for image tokens in LLaVa should be done in processing. Please add `patch_size` and `vision_feature_select_strategy` to the model's processing config or set directly with `processor.patch_size = {{patch_size}}` and processor.vision_feature_select_strategy = {{vision_feature_select_strategy}}`. Using processors without these attributes in the config is deprecated and will throw an error in v4.47.\n",
      "Expanding inputs for image tokens in LLaVa should be done in processing. Please add `patch_size` and `vision_feature_select_strategy` to the model's processing config or set directly with `processor.patch_size = {{patch_size}}` and processor.vision_feature_select_strategy = {{vision_feature_select_strategy}}`. Using processors without these attributes in the config is deprecated and will throw an error in v4.47.\n",
      "Expanding inputs for image tokens in LLaVa should be done in processing. Please add `patch_size` and `vision_feature_select_strategy` to the model's processing config or set directly with `processor.patch_size = {{patch_size}}` and processor.vision_feature_select_strategy = {{vision_feature_select_strategy}}`. Using processors without these attributes in the config is deprecated and will throw an error in v4.47.\n",
      "Expanding inputs for image tokens in LLaVa should be done in processing. Please add `patch_size` and `vision_feature_select_strategy` to the model's processing config or set directly with `processor.patch_size = {{patch_size}}` and processor.vision_feature_select_strategy = {{vision_feature_select_strategy}}`. Using processors without these attributes in the config is deprecated and will throw an error in v4.47.\n"
     ]
    },
    {
     "data": {
      "application/vnd.jupyter.widget-view+json": {
       "model_id": "",
       "version_major": 2,
       "version_minor": 0
      },
      "text/plain": [
       "Validation: |          | 0/? [00:00<?, ?it/s]"
      ]
     },
     "metadata": {},
     "output_type": "display_data"
    },
    {
     "name": "stdout",
     "output_type": "stream",
     "text": [
      "Prediction: psychic\n",
      "    Answer: normal\n",
      " Normed ED: 1.0\n",
      "Prediction: fire\n",
      "    Answer: fire\n",
      " Normed ED: 0.0\n",
      "Prediction: electric\n",
      "    Answer: normal\n",
      " Normed ED: 1.0\n",
      "Prediction: dragon\n",
      "    Answer: grass\n",
      " Normed ED: 0.6666666666666666\n",
      "Prediction: fighting\n",
      "    Answer: normal\n",
      " Normed ED: 1.0\n"
     ]
    },
    {
     "name": "stderr",
     "output_type": "stream",
     "text": [
      "Expanding inputs for image tokens in LLaVa should be done in processing. Please add `patch_size` and `vision_feature_select_strategy` to the model's processing config or set directly with `processor.patch_size = {{patch_size}}` and processor.vision_feature_select_strategy = {{vision_feature_select_strategy}}`. Using processors without these attributes in the config is deprecated and will throw an error in v4.47.\n",
      "Expanding inputs for image tokens in LLaVa should be done in processing. Please add `patch_size` and `vision_feature_select_strategy` to the model's processing config or set directly with `processor.patch_size = {{patch_size}}` and processor.vision_feature_select_strategy = {{vision_feature_select_strategy}}`. Using processors without these attributes in the config is deprecated and will throw an error in v4.47.\n",
      "Expanding inputs for image tokens in LLaVa should be done in processing. Please add `patch_size` and `vision_feature_select_strategy` to the model's processing config or set directly with `processor.patch_size = {{patch_size}}` and processor.vision_feature_select_strategy = {{vision_feature_select_strategy}}`. Using processors without these attributes in the config is deprecated and will throw an error in v4.47.\n",
      "Expanding inputs for image tokens in LLaVa should be done in processing. Please add `patch_size` and `vision_feature_select_strategy` to the model's processing config or set directly with `processor.patch_size = {{patch_size}}` and processor.vision_feature_select_strategy = {{vision_feature_select_strategy}}`. Using processors without these attributes in the config is deprecated and will throw an error in v4.47.\n",
      "Expanding inputs for image tokens in LLaVa should be done in processing. Please add `patch_size` and `vision_feature_select_strategy` to the model's processing config or set directly with `processor.patch_size = {{patch_size}}` and processor.vision_feature_select_strategy = {{vision_feature_select_strategy}}`. Using processors without these attributes in the config is deprecated and will throw an error in v4.47.\n",
      "Expanding inputs for image tokens in LLaVa should be done in processing. Please add `patch_size` and `vision_feature_select_strategy` to the model's processing config or set directly with `processor.patch_size = {{patch_size}}` and processor.vision_feature_select_strategy = {{vision_feature_select_strategy}}`. Using processors without these attributes in the config is deprecated and will throw an error in v4.47.\n",
      "Expanding inputs for image tokens in LLaVa should be done in processing. Please add `patch_size` and `vision_feature_select_strategy` to the model's processing config or set directly with `processor.patch_size = {{patch_size}}` and processor.vision_feature_select_strategy = {{vision_feature_select_strategy}}`. Using processors without these attributes in the config is deprecated and will throw an error in v4.47.\n",
      "Expanding inputs for image tokens in LLaVa should be done in processing. Please add `patch_size` and `vision_feature_select_strategy` to the model's processing config or set directly with `processor.patch_size = {{patch_size}}` and processor.vision_feature_select_strategy = {{vision_feature_select_strategy}}`. Using processors without these attributes in the config is deprecated and will throw an error in v4.47.\n"
     ]
    },
    {
     "data": {
      "application/vnd.jupyter.widget-view+json": {
       "model_id": "",
       "version_major": 2,
       "version_minor": 0
      },
      "text/plain": [
       "Validation: |          | 0/? [00:00<?, ?it/s]"
      ]
     },
     "metadata": {},
     "output_type": "display_data"
    },
    {
     "name": "stdout",
     "output_type": "stream",
     "text": [
      "Prediction: psychic\n",
      "    Answer: normal\n",
      " Normed ED: 1.0\n",
      "Prediction: fire\n",
      "    Answer: fire\n",
      " Normed ED: 0.0\n",
      "Prediction: electric\n",
      "    Answer: normal\n",
      " Normed ED: 1.0\n",
      "Prediction: water\n",
      "    Answer: grass\n",
      " Normed ED: 1.0\n",
      "Prediction: normal\n",
      "    Answer: normal\n",
      " Normed ED: 0.0\n"
     ]
    },
    {
     "name": "stderr",
     "output_type": "stream",
     "text": [
      "Expanding inputs for image tokens in LLaVa should be done in processing. Please add `patch_size` and `vision_feature_select_strategy` to the model's processing config or set directly with `processor.patch_size = {{patch_size}}` and processor.vision_feature_select_strategy = {{vision_feature_select_strategy}}`. Using processors without these attributes in the config is deprecated and will throw an error in v4.47.\n",
      "Expanding inputs for image tokens in LLaVa should be done in processing. Please add `patch_size` and `vision_feature_select_strategy` to the model's processing config or set directly with `processor.patch_size = {{patch_size}}` and processor.vision_feature_select_strategy = {{vision_feature_select_strategy}}`. Using processors without these attributes in the config is deprecated and will throw an error in v4.47.\n",
      "Expanding inputs for image tokens in LLaVa should be done in processing. Please add `patch_size` and `vision_feature_select_strategy` to the model's processing config or set directly with `processor.patch_size = {{patch_size}}` and processor.vision_feature_select_strategy = {{vision_feature_select_strategy}}`. Using processors without these attributes in the config is deprecated and will throw an error in v4.47.\n",
      "Expanding inputs for image tokens in LLaVa should be done in processing. Please add `patch_size` and `vision_feature_select_strategy` to the model's processing config or set directly with `processor.patch_size = {{patch_size}}` and processor.vision_feature_select_strategy = {{vision_feature_select_strategy}}`. Using processors without these attributes in the config is deprecated and will throw an error in v4.47.\n",
      "Expanding inputs for image tokens in LLaVa should be done in processing. Please add `patch_size` and `vision_feature_select_strategy` to the model's processing config or set directly with `processor.patch_size = {{patch_size}}` and processor.vision_feature_select_strategy = {{vision_feature_select_strategy}}`. Using processors without these attributes in the config is deprecated and will throw an error in v4.47.\n",
      "Expanding inputs for image tokens in LLaVa should be done in processing. Please add `patch_size` and `vision_feature_select_strategy` to the model's processing config or set directly with `processor.patch_size = {{patch_size}}` and processor.vision_feature_select_strategy = {{vision_feature_select_strategy}}`. Using processors without these attributes in the config is deprecated and will throw an error in v4.47.\n",
      "Expanding inputs for image tokens in LLaVa should be done in processing. Please add `patch_size` and `vision_feature_select_strategy` to the model's processing config or set directly with `processor.patch_size = {{patch_size}}` and processor.vision_feature_select_strategy = {{vision_feature_select_strategy}}`. Using processors without these attributes in the config is deprecated and will throw an error in v4.47.\n",
      "Expanding inputs for image tokens in LLaVa should be done in processing. Please add `patch_size` and `vision_feature_select_strategy` to the model's processing config or set directly with `processor.patch_size = {{patch_size}}` and processor.vision_feature_select_strategy = {{vision_feature_select_strategy}}`. Using processors without these attributes in the config is deprecated and will throw an error in v4.47.\n"
     ]
    },
    {
     "data": {
      "application/vnd.jupyter.widget-view+json": {
       "model_id": "",
       "version_major": 2,
       "version_minor": 0
      },
      "text/plain": [
       "Validation: |          | 0/? [00:00<?, ?it/s]"
      ]
     },
     "metadata": {},
     "output_type": "display_data"
    },
    {
     "name": "stdout",
     "output_type": "stream",
     "text": [
      "Prediction: psychic\n",
      "    Answer: normal\n",
      " Normed ED: 1.0\n",
      "Prediction: fire\n",
      "    Answer: fire\n",
      " Normed ED: 0.0\n",
      "Prediction: electric\n",
      "    Answer: normal\n",
      " Normed ED: 1.0\n",
      "Prediction: grass\n",
      "    Answer: grass\n",
      " Normed ED: 0.0\n",
      "Prediction: fighting\n",
      "    Answer: normal\n",
      " Normed ED: 1.0\n"
     ]
    },
    {
     "name": "stderr",
     "output_type": "stream",
     "text": [
      "Expanding inputs for image tokens in LLaVa should be done in processing. Please add `patch_size` and `vision_feature_select_strategy` to the model's processing config or set directly with `processor.patch_size = {{patch_size}}` and processor.vision_feature_select_strategy = {{vision_feature_select_strategy}}`. Using processors without these attributes in the config is deprecated and will throw an error in v4.47.\n",
      "Expanding inputs for image tokens in LLaVa should be done in processing. Please add `patch_size` and `vision_feature_select_strategy` to the model's processing config or set directly with `processor.patch_size = {{patch_size}}` and processor.vision_feature_select_strategy = {{vision_feature_select_strategy}}`. Using processors without these attributes in the config is deprecated and will throw an error in v4.47.\n",
      "Expanding inputs for image tokens in LLaVa should be done in processing. Please add `patch_size` and `vision_feature_select_strategy` to the model's processing config or set directly with `processor.patch_size = {{patch_size}}` and processor.vision_feature_select_strategy = {{vision_feature_select_strategy}}`. Using processors without these attributes in the config is deprecated and will throw an error in v4.47.\n",
      "Expanding inputs for image tokens in LLaVa should be done in processing. Please add `patch_size` and `vision_feature_select_strategy` to the model's processing config or set directly with `processor.patch_size = {{patch_size}}` and processor.vision_feature_select_strategy = {{vision_feature_select_strategy}}`. Using processors without these attributes in the config is deprecated and will throw an error in v4.47.\n",
      "Expanding inputs for image tokens in LLaVa should be done in processing. Please add `patch_size` and `vision_feature_select_strategy` to the model's processing config or set directly with `processor.patch_size = {{patch_size}}` and processor.vision_feature_select_strategy = {{vision_feature_select_strategy}}`. Using processors without these attributes in the config is deprecated and will throw an error in v4.47.\n",
      "Expanding inputs for image tokens in LLaVa should be done in processing. Please add `patch_size` and `vision_feature_select_strategy` to the model's processing config or set directly with `processor.patch_size = {{patch_size}}` and processor.vision_feature_select_strategy = {{vision_feature_select_strategy}}`. Using processors without these attributes in the config is deprecated and will throw an error in v4.47.\n",
      "Expanding inputs for image tokens in LLaVa should be done in processing. Please add `patch_size` and `vision_feature_select_strategy` to the model's processing config or set directly with `processor.patch_size = {{patch_size}}` and processor.vision_feature_select_strategy = {{vision_feature_select_strategy}}`. Using processors without these attributes in the config is deprecated and will throw an error in v4.47.\n",
      "Expanding inputs for image tokens in LLaVa should be done in processing. Please add `patch_size` and `vision_feature_select_strategy` to the model's processing config or set directly with `processor.patch_size = {{patch_size}}` and processor.vision_feature_select_strategy = {{vision_feature_select_strategy}}`. Using processors without these attributes in the config is deprecated and will throw an error in v4.47.\n"
     ]
    },
    {
     "data": {
      "application/vnd.jupyter.widget-view+json": {
       "model_id": "",
       "version_major": 2,
       "version_minor": 0
      },
      "text/plain": [
       "Validation: |          | 0/? [00:00<?, ?it/s]"
      ]
     },
     "metadata": {},
     "output_type": "display_data"
    },
    {
     "name": "stdout",
     "output_type": "stream",
     "text": [
      "Prediction: psychic\n",
      "    Answer: normal\n",
      " Normed ED: 1.0\n",
      "Prediction: fire\n",
      "    Answer: fire\n",
      " Normed ED: 0.0\n",
      "Prediction: electric\n",
      "    Answer: normal\n",
      " Normed ED: 1.0\n",
      "Prediction: dragon\n",
      "    Answer: grass\n",
      " Normed ED: 0.6666666666666666\n",
      "Prediction: normal\n",
      "    Answer: normal\n",
      " Normed ED: 0.0\n"
     ]
    },
    {
     "name": "stderr",
     "output_type": "stream",
     "text": [
      "Expanding inputs for image tokens in LLaVa should be done in processing. Please add `patch_size` and `vision_feature_select_strategy` to the model's processing config or set directly with `processor.patch_size = {{patch_size}}` and processor.vision_feature_select_strategy = {{vision_feature_select_strategy}}`. Using processors without these attributes in the config is deprecated and will throw an error in v4.47.\n",
      "Expanding inputs for image tokens in LLaVa should be done in processing. Please add `patch_size` and `vision_feature_select_strategy` to the model's processing config or set directly with `processor.patch_size = {{patch_size}}` and processor.vision_feature_select_strategy = {{vision_feature_select_strategy}}`. Using processors without these attributes in the config is deprecated and will throw an error in v4.47.\n",
      "Expanding inputs for image tokens in LLaVa should be done in processing. Please add `patch_size` and `vision_feature_select_strategy` to the model's processing config or set directly with `processor.patch_size = {{patch_size}}` and processor.vision_feature_select_strategy = {{vision_feature_select_strategy}}`. Using processors without these attributes in the config is deprecated and will throw an error in v4.47.\n",
      "Expanding inputs for image tokens in LLaVa should be done in processing. Please add `patch_size` and `vision_feature_select_strategy` to the model's processing config or set directly with `processor.patch_size = {{patch_size}}` and processor.vision_feature_select_strategy = {{vision_feature_select_strategy}}`. Using processors without these attributes in the config is deprecated and will throw an error in v4.47.\n",
      "Expanding inputs for image tokens in LLaVa should be done in processing. Please add `patch_size` and `vision_feature_select_strategy` to the model's processing config or set directly with `processor.patch_size = {{patch_size}}` and processor.vision_feature_select_strategy = {{vision_feature_select_strategy}}`. Using processors without these attributes in the config is deprecated and will throw an error in v4.47.\n",
      "Expanding inputs for image tokens in LLaVa should be done in processing. Please add `patch_size` and `vision_feature_select_strategy` to the model's processing config or set directly with `processor.patch_size = {{patch_size}}` and processor.vision_feature_select_strategy = {{vision_feature_select_strategy}}`. Using processors without these attributes in the config is deprecated and will throw an error in v4.47.\n",
      "Expanding inputs for image tokens in LLaVa should be done in processing. Please add `patch_size` and `vision_feature_select_strategy` to the model's processing config or set directly with `processor.patch_size = {{patch_size}}` and processor.vision_feature_select_strategy = {{vision_feature_select_strategy}}`. Using processors without these attributes in the config is deprecated and will throw an error in v4.47.\n",
      "Expanding inputs for image tokens in LLaVa should be done in processing. Please add `patch_size` and `vision_feature_select_strategy` to the model's processing config or set directly with `processor.patch_size = {{patch_size}}` and processor.vision_feature_select_strategy = {{vision_feature_select_strategy}}`. Using processors without these attributes in the config is deprecated and will throw an error in v4.47.\n"
     ]
    },
    {
     "data": {
      "application/vnd.jupyter.widget-view+json": {
       "model_id": "",
       "version_major": 2,
       "version_minor": 0
      },
      "text/plain": [
       "Validation: |          | 0/? [00:00<?, ?it/s]"
      ]
     },
     "metadata": {},
     "output_type": "display_data"
    },
    {
     "name": "stdout",
     "output_type": "stream",
     "text": [
      "Prediction: psychic\n",
      "    Answer: normal\n",
      " Normed ED: 1.0\n",
      "Prediction: smog\n",
      "    Answer: fire\n",
      " Normed ED: 1.0\n",
      "Prediction: electric\n",
      "    Answer: normal\n",
      " Normed ED: 1.0\n",
      "Prediction: water\n",
      "    Answer: grass\n",
      " Normed ED: 1.0\n",
      "Prediction: normal\n",
      "    Answer: normal\n",
      " Normed ED: 0.0\n"
     ]
    },
    {
     "name": "stderr",
     "output_type": "stream",
     "text": [
      "Expanding inputs for image tokens in LLaVa should be done in processing. Please add `patch_size` and `vision_feature_select_strategy` to the model's processing config or set directly with `processor.patch_size = {{patch_size}}` and processor.vision_feature_select_strategy = {{vision_feature_select_strategy}}`. Using processors without these attributes in the config is deprecated and will throw an error in v4.47.\n",
      "Expanding inputs for image tokens in LLaVa should be done in processing. Please add `patch_size` and `vision_feature_select_strategy` to the model's processing config or set directly with `processor.patch_size = {{patch_size}}` and processor.vision_feature_select_strategy = {{vision_feature_select_strategy}}`. Using processors without these attributes in the config is deprecated and will throw an error in v4.47.\n",
      "Expanding inputs for image tokens in LLaVa should be done in processing. Please add `patch_size` and `vision_feature_select_strategy` to the model's processing config or set directly with `processor.patch_size = {{patch_size}}` and processor.vision_feature_select_strategy = {{vision_feature_select_strategy}}`. Using processors without these attributes in the config is deprecated and will throw an error in v4.47.\n",
      "Expanding inputs for image tokens in LLaVa should be done in processing. Please add `patch_size` and `vision_feature_select_strategy` to the model's processing config or set directly with `processor.patch_size = {{patch_size}}` and processor.vision_feature_select_strategy = {{vision_feature_select_strategy}}`. Using processors without these attributes in the config is deprecated and will throw an error in v4.47.\n",
      "Expanding inputs for image tokens in LLaVa should be done in processing. Please add `patch_size` and `vision_feature_select_strategy` to the model's processing config or set directly with `processor.patch_size = {{patch_size}}` and processor.vision_feature_select_strategy = {{vision_feature_select_strategy}}`. Using processors without these attributes in the config is deprecated and will throw an error in v4.47.\n",
      "Expanding inputs for image tokens in LLaVa should be done in processing. Please add `patch_size` and `vision_feature_select_strategy` to the model's processing config or set directly with `processor.patch_size = {{patch_size}}` and processor.vision_feature_select_strategy = {{vision_feature_select_strategy}}`. Using processors without these attributes in the config is deprecated and will throw an error in v4.47.\n",
      "Expanding inputs for image tokens in LLaVa should be done in processing. Please add `patch_size` and `vision_feature_select_strategy` to the model's processing config or set directly with `processor.patch_size = {{patch_size}}` and processor.vision_feature_select_strategy = {{vision_feature_select_strategy}}`. Using processors without these attributes in the config is deprecated and will throw an error in v4.47.\n",
      "Expanding inputs for image tokens in LLaVa should be done in processing. Please add `patch_size` and `vision_feature_select_strategy` to the model's processing config or set directly with `processor.patch_size = {{patch_size}}` and processor.vision_feature_select_strategy = {{vision_feature_select_strategy}}`. Using processors without these attributes in the config is deprecated and will throw an error in v4.47.\n"
     ]
    },
    {
     "data": {
      "application/vnd.jupyter.widget-view+json": {
       "model_id": "",
       "version_major": 2,
       "version_minor": 0
      },
      "text/plain": [
       "Validation: |          | 0/? [00:00<?, ?it/s]"
      ]
     },
     "metadata": {},
     "output_type": "display_data"
    },
    {
     "name": "stdout",
     "output_type": "stream",
     "text": [
      "Prediction: psychic\n",
      "    Answer: normal\n",
      " Normed ED: 1.0\n",
      "Prediction: fire\n",
      "    Answer: fire\n",
      " Normed ED: 0.0\n",
      "Prediction: electric\n",
      "    Answer: normal\n",
      " Normed ED: 1.0\n",
      "Prediction: water\n",
      "    Answer: grass\n",
      " Normed ED: 1.0\n",
      "Prediction: normal\n",
      "    Answer: normal\n",
      " Normed ED: 0.0\n"
     ]
    },
    {
     "name": "stderr",
     "output_type": "stream",
     "text": [
      "Expanding inputs for image tokens in LLaVa should be done in processing. Please add `patch_size` and `vision_feature_select_strategy` to the model's processing config or set directly with `processor.patch_size = {{patch_size}}` and processor.vision_feature_select_strategy = {{vision_feature_select_strategy}}`. Using processors without these attributes in the config is deprecated and will throw an error in v4.47.\n",
      "Expanding inputs for image tokens in LLaVa should be done in processing. Please add `patch_size` and `vision_feature_select_strategy` to the model's processing config or set directly with `processor.patch_size = {{patch_size}}` and processor.vision_feature_select_strategy = {{vision_feature_select_strategy}}`. Using processors without these attributes in the config is deprecated and will throw an error in v4.47.\n",
      "Expanding inputs for image tokens in LLaVa should be done in processing. Please add `patch_size` and `vision_feature_select_strategy` to the model's processing config or set directly with `processor.patch_size = {{patch_size}}` and processor.vision_feature_select_strategy = {{vision_feature_select_strategy}}`. Using processors without these attributes in the config is deprecated and will throw an error in v4.47.\n",
      "Expanding inputs for image tokens in LLaVa should be done in processing. Please add `patch_size` and `vision_feature_select_strategy` to the model's processing config or set directly with `processor.patch_size = {{patch_size}}` and processor.vision_feature_select_strategy = {{vision_feature_select_strategy}}`. Using processors without these attributes in the config is deprecated and will throw an error in v4.47.\n",
      "Expanding inputs for image tokens in LLaVa should be done in processing. Please add `patch_size` and `vision_feature_select_strategy` to the model's processing config or set directly with `processor.patch_size = {{patch_size}}` and processor.vision_feature_select_strategy = {{vision_feature_select_strategy}}`. Using processors without these attributes in the config is deprecated and will throw an error in v4.47.\n",
      "Expanding inputs for image tokens in LLaVa should be done in processing. Please add `patch_size` and `vision_feature_select_strategy` to the model's processing config or set directly with `processor.patch_size = {{patch_size}}` and processor.vision_feature_select_strategy = {{vision_feature_select_strategy}}`. Using processors without these attributes in the config is deprecated and will throw an error in v4.47.\n",
      "Expanding inputs for image tokens in LLaVa should be done in processing. Please add `patch_size` and `vision_feature_select_strategy` to the model's processing config or set directly with `processor.patch_size = {{patch_size}}` and processor.vision_feature_select_strategy = {{vision_feature_select_strategy}}`. Using processors without these attributes in the config is deprecated and will throw an error in v4.47.\n",
      "Expanding inputs for image tokens in LLaVa should be done in processing. Please add `patch_size` and `vision_feature_select_strategy` to the model's processing config or set directly with `processor.patch_size = {{patch_size}}` and processor.vision_feature_select_strategy = {{vision_feature_select_strategy}}`. Using processors without these attributes in the config is deprecated and will throw an error in v4.47.\n"
     ]
    },
    {
     "data": {
      "application/vnd.jupyter.widget-view+json": {
       "model_id": "",
       "version_major": 2,
       "version_minor": 0
      },
      "text/plain": [
       "Validation: |          | 0/? [00:00<?, ?it/s]"
      ]
     },
     "metadata": {},
     "output_type": "display_data"
    },
    {
     "name": "stdout",
     "output_type": "stream",
     "text": [
      "Prediction: psychic\n",
      "    Answer: normal\n",
      " Normed ED: 1.0\n",
      "Prediction: fire\n",
      "    Answer: fire\n",
      " Normed ED: 0.0\n",
      "Prediction: electric\n",
      "    Answer: normal\n",
      " Normed ED: 1.0\n",
      "Prediction: dragon\n",
      "    Answer: grass\n",
      " Normed ED: 0.6666666666666666\n",
      "Prediction: normal\n",
      "    Answer: normal\n",
      " Normed ED: 0.0\n"
     ]
    },
    {
     "name": "stderr",
     "output_type": "stream",
     "text": [
      "Expanding inputs for image tokens in LLaVa should be done in processing. Please add `patch_size` and `vision_feature_select_strategy` to the model's processing config or set directly with `processor.patch_size = {{patch_size}}` and processor.vision_feature_select_strategy = {{vision_feature_select_strategy}}`. Using processors without these attributes in the config is deprecated and will throw an error in v4.47.\n",
      "Expanding inputs for image tokens in LLaVa should be done in processing. Please add `patch_size` and `vision_feature_select_strategy` to the model's processing config or set directly with `processor.patch_size = {{patch_size}}` and processor.vision_feature_select_strategy = {{vision_feature_select_strategy}}`. Using processors without these attributes in the config is deprecated and will throw an error in v4.47.\n",
      "Expanding inputs for image tokens in LLaVa should be done in processing. Please add `patch_size` and `vision_feature_select_strategy` to the model's processing config or set directly with `processor.patch_size = {{patch_size}}` and processor.vision_feature_select_strategy = {{vision_feature_select_strategy}}`. Using processors without these attributes in the config is deprecated and will throw an error in v4.47.\n",
      "Expanding inputs for image tokens in LLaVa should be done in processing. Please add `patch_size` and `vision_feature_select_strategy` to the model's processing config or set directly with `processor.patch_size = {{patch_size}}` and processor.vision_feature_select_strategy = {{vision_feature_select_strategy}}`. Using processors without these attributes in the config is deprecated and will throw an error in v4.47.\n",
      "Expanding inputs for image tokens in LLaVa should be done in processing. Please add `patch_size` and `vision_feature_select_strategy` to the model's processing config or set directly with `processor.patch_size = {{patch_size}}` and processor.vision_feature_select_strategy = {{vision_feature_select_strategy}}`. Using processors without these attributes in the config is deprecated and will throw an error in v4.47.\n",
      "Expanding inputs for image tokens in LLaVa should be done in processing. Please add `patch_size` and `vision_feature_select_strategy` to the model's processing config or set directly with `processor.patch_size = {{patch_size}}` and processor.vision_feature_select_strategy = {{vision_feature_select_strategy}}`. Using processors without these attributes in the config is deprecated and will throw an error in v4.47.\n",
      "Expanding inputs for image tokens in LLaVa should be done in processing. Please add `patch_size` and `vision_feature_select_strategy` to the model's processing config or set directly with `processor.patch_size = {{patch_size}}` and processor.vision_feature_select_strategy = {{vision_feature_select_strategy}}`. Using processors without these attributes in the config is deprecated and will throw an error in v4.47.\n",
      "Expanding inputs for image tokens in LLaVa should be done in processing. Please add `patch_size` and `vision_feature_select_strategy` to the model's processing config or set directly with `processor.patch_size = {{patch_size}}` and processor.vision_feature_select_strategy = {{vision_feature_select_strategy}}`. Using processors without these attributes in the config is deprecated and will throw an error in v4.47.\n"
     ]
    },
    {
     "data": {
      "application/vnd.jupyter.widget-view+json": {
       "model_id": "",
       "version_major": 2,
       "version_minor": 0
      },
      "text/plain": [
       "Validation: |          | 0/? [00:00<?, ?it/s]"
      ]
     },
     "metadata": {},
     "output_type": "display_data"
    },
    {
     "name": "stdout",
     "output_type": "stream",
     "text": [
      "Prediction: psychic\n",
      "    Answer: normal\n",
      " Normed ED: 1.0\n",
      "Prediction: fire\n",
      "    Answer: fire\n",
      " Normed ED: 0.0\n",
      "Prediction: electric\n",
      "    Answer: normal\n",
      " Normed ED: 1.0\n",
      "Prediction: water\n",
      "    Answer: grass\n",
      " Normed ED: 1.0\n",
      "Prediction: normal\n",
      "    Answer: normal\n",
      " Normed ED: 0.0\n"
     ]
    },
    {
     "name": "stderr",
     "output_type": "stream",
     "text": [
      "`Trainer.fit` stopped: `max_epochs=10` reached.\n"
     ]
    }
   ],
   "source": [
    "from lightning.pytorch.loggers import WandbLogger\n",
    "\n",
    "wandb_logger = WandbLogger(project=WANDB_PROJECT, name=WANDB_NAME)\n",
    "\n",
    "trainer = L.Trainer(\n",
    "        accelerator=\"gpu\",\n",
    "        devices=1,\n",
    "        max_epochs=config.get(\"max_epochs\"),\n",
    "        accumulate_grad_batches=config.get(\"accumulate_grad_batches\"),\n",
    "        check_val_every_n_epoch=config.get(\"check_val_every_n_epoch\"),\n",
    "        gradient_clip_val=config.get(\"gradient_clip_val\"),\n",
    "        precision=\"16-mixed\",\n",
    "        limit_val_batches=5,\n",
    "        num_sanity_val_steps=0,\n",
    "        logger=wandb_logger,\n",
    "        # callbacks=[PushToHubCallback(), early_stop_callback],\n",
    ")\n",
    "\n",
    "trainer.fit(model_module)"
   ]
  },
  {
   "cell_type": "code",
   "execution_count": 32,
   "metadata": {},
   "outputs": [],
   "source": [
    "# Save the model's state_dict (weights)\n",
    "torch.save(model_module.state_dict(), \"poke_weights.pth\")"
   ]
  },
  {
   "cell_type": "markdown",
   "metadata": {
    "id": "hQPiR5IV89qs"
   },
   "source": [
    "## Inference"
   ]
  },
  {
   "cell_type": "code",
   "execution_count": 33,
   "metadata": {
    "id": "jc0JHzIY89qs",
    "outputId": "5845f9fb-0296-47b3-ad21-9dec3fb1093e"
   },
   "outputs": [
    {
     "name": "stderr",
     "output_type": "stream",
     "text": [
      "`low_cpu_mem_usage` was None, now default to True since model is quantized.\n"
     ]
    },
    {
     "data": {
      "application/vnd.jupyter.widget-view+json": {
       "model_id": "11862bdeec5e47efb8eb6a7bf46fa987",
       "version_major": 2,
       "version_minor": 0
      },
      "text/plain": [
       "Loading checkpoint shards:   0%|          | 0/3 [00:00<?, ?it/s]"
      ]
     },
     "metadata": {},
     "output_type": "display_data"
    },
    {
     "data": {
      "text/plain": [
       "LlavaForConditionalGeneration(\n",
       "  (vision_tower): CLIPVisionModel(\n",
       "    (vision_model): CLIPVisionTransformer(\n",
       "      (embeddings): CLIPVisionEmbeddings(\n",
       "        (patch_embedding): Conv2d(3, 1024, kernel_size=(14, 14), stride=(14, 14), bias=False)\n",
       "        (position_embedding): Embedding(577, 1024)\n",
       "      )\n",
       "      (pre_layrnorm): LayerNorm((1024,), eps=1e-05, elementwise_affine=True)\n",
       "      (encoder): CLIPEncoder(\n",
       "        (layers): ModuleList(\n",
       "          (0-23): 24 x CLIPEncoderLayer(\n",
       "            (self_attn): CLIPAttention(\n",
       "              (k_proj): Linear4bit(in_features=1024, out_features=1024, bias=True)\n",
       "              (v_proj): Linear4bit(in_features=1024, out_features=1024, bias=True)\n",
       "              (q_proj): Linear4bit(in_features=1024, out_features=1024, bias=True)\n",
       "              (out_proj): Linear4bit(in_features=1024, out_features=1024, bias=True)\n",
       "            )\n",
       "            (layer_norm1): LayerNorm((1024,), eps=1e-05, elementwise_affine=True)\n",
       "            (mlp): CLIPMLP(\n",
       "              (activation_fn): QuickGELUActivation()\n",
       "              (fc1): Linear4bit(in_features=1024, out_features=4096, bias=True)\n",
       "              (fc2): Linear4bit(in_features=4096, out_features=1024, bias=True)\n",
       "            )\n",
       "            (layer_norm2): LayerNorm((1024,), eps=1e-05, elementwise_affine=True)\n",
       "          )\n",
       "        )\n",
       "      )\n",
       "      (post_layernorm): LayerNorm((1024,), eps=1e-05, elementwise_affine=True)\n",
       "    )\n",
       "  )\n",
       "  (multi_modal_projector): LlavaMultiModalProjector(\n",
       "    (linear_1): Linear4bit(in_features=1024, out_features=4096, bias=True)\n",
       "    (act): GELUActivation()\n",
       "    (linear_2): Linear4bit(in_features=4096, out_features=4096, bias=True)\n",
       "  )\n",
       "  (language_model): LlamaForCausalLM(\n",
       "    (model): LlamaModel(\n",
       "      (embed_tokens): Embedding(32064, 4096)\n",
       "      (layers): ModuleList(\n",
       "        (0-31): 32 x LlamaDecoderLayer(\n",
       "          (self_attn): LlamaAttention(\n",
       "            (q_proj): Linear4bit(in_features=4096, out_features=4096, bias=False)\n",
       "            (k_proj): Linear4bit(in_features=4096, out_features=4096, bias=False)\n",
       "            (v_proj): Linear4bit(in_features=4096, out_features=4096, bias=False)\n",
       "            (o_proj): Linear4bit(in_features=4096, out_features=4096, bias=False)\n",
       "            (rotary_emb): LlamaRotaryEmbedding()\n",
       "          )\n",
       "          (mlp): LlamaMLP(\n",
       "            (gate_proj): Linear4bit(in_features=4096, out_features=11008, bias=False)\n",
       "            (up_proj): Linear4bit(in_features=4096, out_features=11008, bias=False)\n",
       "            (down_proj): Linear4bit(in_features=11008, out_features=4096, bias=False)\n",
       "            (act_fn): SiLU()\n",
       "          )\n",
       "          (input_layernorm): LlamaRMSNorm((4096,), eps=1e-05)\n",
       "          (post_attention_layernorm): LlamaRMSNorm((4096,), eps=1e-05)\n",
       "        )\n",
       "      )\n",
       "      (norm): LlamaRMSNorm((4096,), eps=1e-05)\n",
       "      (rotary_emb): LlamaRotaryEmbedding()\n",
       "    )\n",
       "    (lm_head): Linear(in_features=4096, out_features=32064, bias=False)\n",
       "  )\n",
       ")"
      ]
     },
     "execution_count": 33,
     "metadata": {},
     "output_type": "execute_result"
    }
   ],
   "source": [
    "from transformers import AutoProcessor, BitsAndBytesConfig, LlavaForConditionalGeneration\n",
    "import torch\n",
    "\n",
    "# Load the processor\n",
    "processor = AutoProcessor.from_pretrained(MODEL_ID)\n",
    "\n",
    "# Define quantization config\n",
    "quantization_config = BitsAndBytesConfig(\n",
    "    load_in_4bit=True,\n",
    "    bnb_4bit_quant_type=\"nf4\",\n",
    "    bnb_4bit_compute_dtype=torch.float16\n",
    ")\n",
    "\n",
    "# Initialize the model architecture\n",
    "model = LlavaForConditionalGeneration.from_pretrained(\n",
    "    MODEL_ID,  # This refers to the pre-trained model, or use a local directory for your trained model\n",
    "    torch_dtype=torch.float16,\n",
    "    quantization_config=quantization_config\n",
    ")\n",
    "\n",
    "# Now load the saved weights manually\n",
    "# Make sure you have the correct path where the weights are stored\n",
    "saved_weights = torch.load(\"poke_weights.pth\")\n",
    "\n",
    "# Load the weights into the model\n",
    "try:\n",
    "    model.load_state_dict(saved_weights, strict=False)  # strict=False to allow some layers to be missing\n",
    "except Exception as e:\n",
    "    print(f\"Error loading weights: {e}\")\n",
    "\n",
    "# Set the model to evaluation mode if you are doing inference\n",
    "model.eval()\n"
   ]
  },
  {
   "cell_type": "markdown",
   "metadata": {
    "id": "5Lqxte3U89qs"
   },
   "source": [
    "Now we're ready to perform inference. We'll take a receipt image of the test set here."
   ]
  },
  {
   "cell_type": "code",
   "execution_count": 41,
   "metadata": {
    "id": "BNw1jE0n89qw",
    "outputId": "f93b5f96-8565-4c78-b802-74195ae63d9c"
   },
   "outputs": [
    {
     "data": {
      "text/plain": [
       "<matplotlib.image.AxesImage at 0x7fbf6ccb6e30>"
      ]
     },
     "execution_count": 41,
     "metadata": {},
     "output_type": "execute_result"
    },
    {
     "data": {
      "image/png": "[encoded data removed]",
      "text/plain": [
       "<Figure size 640x480 with 1 Axes>"
      ]
     },
     "metadata": {},
     "output_type": "display_data"
    }
   ],
   "source": [
    "import matplotlib.pyplot as plt\n",
    "test_example = test_dataset[0]\n",
    "test_image = test_example[0]\n",
    "ground_truth = test_example[1]\n",
    "plt.imshow(test_image)"
   ]
  },
  {
   "cell_type": "code",
   "execution_count": 42,
   "metadata": {
    "id": "BBWCEdiT89qx",
    "outputId": "3d36269e-c9b7-43e2-85ad-1500c62f146d"
   },
   "outputs": [
    {
     "name": "stdout",
     "output_type": "stream",
     "text": [
      "input_ids torch.Size([1, 23])\n",
      "attention_mask torch.Size([1, 23])\n",
      "pixel_values torch.Size([1, 3, 336, 336])\n"
     ]
    }
   ],
   "source": [
    "# prepare image and prompt for the model\n",
    "# TODO this can be replaced by apply_chat_template when the processor supports this\n",
    "prompt = f\"QUESTION: What Pokémon type is this? <image>\\nANSWER: {ground_truth}\"\n",
    "inputs = processor(text=prompt, images=[test_image], return_tensors=\"pt\").to(\"cuda\")\n",
    "for k,v in inputs.items():\n",
    "    print(k,v.shape)"
   ]
  },
  {
   "cell_type": "markdown",
   "metadata": {
    "id": "w2Brzvy689qx"
   },
   "source": [
    "### Testing"
   ]
  },
  {
   "cell_type": "code",
   "execution_count": 45,
   "metadata": {
    "id": "xFSVXwN889qx"
   },
   "outputs": [],
   "source": [
    "# Generate token IDs\n",
    "generated_ids = model.generate(**inputs, max_new_tokens=MAX_LENGTH)\n",
    "\n",
    "# Decode back into text\n",
    "generated_texts = processor.batch_decode(generated_ids, skip_special_tokens=True)"
   ]
  },
  {
   "cell_type": "code",
   "execution_count": 46,
   "metadata": {
    "id": "Bn5yop6589qx",
    "outputId": "537adbf4-56b6-4513-dbb5-58ba0adaa898"
   },
   "outputs": [
    {
     "name": "stdout",
     "output_type": "stream",
     "text": [
      "['QUESTION: What Pokémon type is this?  \\nANSWER: grass']\n"
     ]
    }
   ],
   "source": [
    "print(generated_texts)"
   ]
  },
  {
   "cell_type": "code",
   "execution_count": 52,
   "metadata": {},
   "outputs": [
    {
     "name": "stdout",
     "output_type": "stream",
     "text": [
      "Processing 1/90 - Ground Truth: grass, Prediction: grass\n",
      "Processing 2/90 - Ground Truth: rock, Prediction: rock\n",
      "Processing 3/90 - Ground Truth: normal, Prediction: normal\n",
      "Processing 4/90 - Ground Truth: electric, Prediction: electric\n",
      "Processing 5/90 - Ground Truth: normal, Prediction: normal\n",
      "Processing 6/90 - Ground Truth: ground, Prediction: ground\n",
      "Processing 7/90 - Ground Truth: steel, Prediction: steel\n",
      "Processing 8/90 - Ground Truth: normal, Prediction: normal\n",
      "Processing 9/90 - Ground Truth: fairy, Prediction: fairy\n",
      "Processing 10/90 - Ground Truth: normal, Prediction: normal\n",
      "Processing 11/90 - Ground Truth: rock, Prediction: rock\n",
      "Processing 12/90 - Ground Truth: water, Prediction: water\n",
      "Processing 13/90 - Ground Truth: normal, Prediction: normal\n",
      "Processing 14/90 - Ground Truth: dark, Prediction: dark\n",
      "Processing 15/90 - Ground Truth: fairy, Prediction: fairy\n",
      "Processing 16/90 - Ground Truth: ground, Prediction: ground\n",
      "Processing 17/90 - Ground Truth: ice, Prediction: ice\n",
      "Processing 18/90 - Ground Truth: water, Prediction: water\n",
      "Processing 19/90 - Ground Truth: electric, Prediction: electric\n",
      "Processing 20/90 - Ground Truth: ground, Prediction: ground\n",
      "Processing 21/90 - Ground Truth: dark, Prediction: dark\n",
      "Processing 22/90 - Ground Truth: ground, Prediction: ground\n",
      "Processing 23/90 - Ground Truth: bug, Prediction: bug\n",
      "Processing 24/90 - Ground Truth: normal, Prediction: normal\n",
      "Processing 25/90 - Ground Truth: water, Prediction: water\n",
      "Processing 26/90 - Ground Truth: ground, Prediction: ground\n",
      "Processing 27/90 - Ground Truth: poison, Prediction: poison\n",
      "Processing 28/90 - Ground Truth: ground, Prediction: groundhog\n",
      "Processing 29/90 - Ground Truth: psychic, Prediction: psychic\n",
      "Processing 30/90 - Ground Truth: dark, Prediction: dark\n",
      "Processing 31/90 - Ground Truth: ghost, Prediction: ghost\n",
      "Processing 32/90 - Ground Truth: rock, Prediction: rock\n",
      "Processing 33/90 - Ground Truth: fighting, Prediction: fighting\n",
      "Processing 34/90 - Ground Truth: ground, Prediction: groundhog\n",
      "Processing 35/90 - Ground Truth: bug, Prediction: bug\n",
      "Processing 36/90 - Ground Truth: ground, Prediction: groundon\n",
      "Processing 37/90 - Ground Truth: poison, Prediction: poison\n",
      "Processing 38/90 - Ground Truth: water, Prediction: water\n",
      "Processing 39/90 - Ground Truth: water, Prediction: water\n",
      "Processing 40/90 - Ground Truth: rock, Prediction: rock\n",
      "Processing 41/90 - Ground Truth: water, Prediction: water\n",
      "Processing 42/90 - Ground Truth: grass, Prediction: grass\n",
      "Processing 43/90 - Ground Truth: grass, Prediction: grass\n",
      "Processing 44/90 - Ground Truth: bug, Prediction: bug\n",
      "Processing 45/90 - Ground Truth: ice, Prediction: ice\n",
      "Processing 46/90 - Ground Truth: water, Prediction: water\n",
      "Processing 47/90 - Ground Truth: fighting, Prediction: fighting\n",
      "Processing 48/90 - Ground Truth: normal, Prediction: normal\n",
      "Processing 49/90 - Ground Truth: water, Prediction: water\n",
      "Processing 50/90 - Ground Truth: fire, Prediction: fire\n",
      "Processing 51/90 - Ground Truth: poison, Prediction: poison\n",
      "Processing 52/90 - Ground Truth: ghost, Prediction: ghost\n",
      "Processing 53/90 - Ground Truth: ice, Prediction: ice\n",
      "Processing 54/90 - Ground Truth: steel, Prediction: steel\n",
      "Processing 55/90 - Ground Truth: psychic, Prediction: psychic\n",
      "Processing 56/90 - Ground Truth: bug, Prediction: bug\n",
      "Processing 57/90 - Ground Truth: grass, Prediction: grass\n",
      "Processing 58/90 - Ground Truth: normal, Prediction: normal\n",
      "Processing 59/90 - Ground Truth: bug, Prediction: bug\n",
      "Processing 60/90 - Ground Truth: grass, Prediction: grass\n",
      "Processing 61/90 - Ground Truth: rock, Prediction: rock\n",
      "Processing 62/90 - Ground Truth: bug, Prediction: bug\n",
      "Processing 63/90 - Ground Truth: steel, Prediction: steel\n",
      "Processing 64/90 - Ground Truth: poison, Prediction: poison\n",
      "Processing 65/90 - Ground Truth: dark, Prediction: dark\n",
      "Processing 66/90 - Ground Truth: water, Prediction: water\n",
      "Processing 67/90 - Ground Truth: water, Prediction: water\n",
      "Processing 68/90 - Ground Truth: normal, Prediction: normal\n",
      "Processing 69/90 - Ground Truth: water, Prediction: water\n",
      "Processing 70/90 - Ground Truth: ice, Prediction: ice\n",
      "Processing 71/90 - Ground Truth: ice, Prediction: ice\n",
      "Processing 72/90 - Ground Truth: bug, Prediction: bug\n",
      "Processing 73/90 - Ground Truth: psychic, Prediction: psychic\n",
      "Processing 74/90 - Ground Truth: grass, Prediction: grass\n",
      "Processing 75/90 - Ground Truth: ghost, Prediction: ghost\n",
      "Processing 76/90 - Ground Truth: bug, Prediction: bug\n",
      "Processing 77/90 - Ground Truth: fire, Prediction: fire\n",
      "Processing 78/90 - Ground Truth: bug, Prediction: bug\n",
      "Processing 79/90 - Ground Truth: fire, Prediction: fire\n",
      "Processing 80/90 - Ground Truth: bug, Prediction: bug\n",
      "Processing 81/90 - Ground Truth: rock, Prediction: rock\n",
      "Processing 82/90 - Ground Truth: fighting, Prediction: fighting\n",
      "Processing 83/90 - Ground Truth: rock, Prediction: rock\n",
      "Processing 84/90 - Ground Truth: fire, Prediction: fire\n",
      "Processing 85/90 - Ground Truth: fairy, Prediction: fairy\n",
      "Processing 86/90 - Ground Truth: grass, Prediction: grass\n",
      "Processing 87/90 - Ground Truth: normal, Prediction: normal\n",
      "Processing 88/90 - Ground Truth: normal, Prediction: normal\n",
      "Processing 89/90 - Ground Truth: water, Prediction: water\n",
      "Processing 90/90 - Ground Truth: psychic, Prediction: psychic\n",
      "Accuracy on the test set: 96.67%\n"
     ]
    }
   ],
   "source": [
    "import torch\n",
    "import re\n",
    "\n",
    "# Set the model in evaluation mode\n",
    "model.eval()\n",
    "\n",
    "# Initialize variables to track the number of correct predictions and total samples\n",
    "correct_predictions = 0\n",
    "total_samples = len(test_dataset)\n",
    "\n",
    "# Loop over the test dataset\n",
    "for i in range(total_samples):\n",
    "    # Get the image and ground truth from the test dataset\n",
    "    test_example = test_dataset[i]\n",
    "    test_image = test_example[0]\n",
    "    ground_truth = test_example[1]\n",
    "\n",
    "    # Prepare the prompt for the model\n",
    "    prompt = f\"QUESTION: What Pokémon type is this? <image>\\nANSWER: {ground_truth}\"\n",
    "    inputs = processor(text=prompt, images=[test_image], return_tensors=\"pt\").to(\"cuda\")\n",
    "\n",
    "    # Generate token IDs using the model\n",
    "    generated_ids = model.generate(**inputs, max_new_tokens=MAX_LENGTH)\n",
    "\n",
    "    # Decode the generated token IDs back into text\n",
    "    generated_texts = processor.batch_decode(generated_ids, skip_special_tokens=True)\n",
    "\n",
    "    # Get the generated text (it's the first one in the list)\n",
    "    generated_output = generated_texts[0].strip()\n",
    "\n",
    "    # Use regex to extract the answer part after \"ANSWER:\"\n",
    "    match = re.search(r'ANSWER:\\s*(.*)', generated_output)\n",
    "    if match:\n",
    "        # Extract the answer (strip extra spaces)\n",
    "        generated_prediction = match.group(1).strip()\n",
    "    else:\n",
    "        # If there's no match, just set it as the raw output (in case of any parsing issue)\n",
    "        generated_prediction = generated_output\n",
    "\n",
    "    # Only take the first word (if multiple words in the prediction)\n",
    "    generated_prediction = generated_prediction.split(' ')[0]\n",
    "\n",
    "    # Print current progress\n",
    "    print(f\"Processing {i+1}/{total_samples} - Ground Truth: {ground_truth}, Prediction: {generated_prediction}\")\n",
    "\n",
    "    # Compare the prediction with the ground truth (case-sensitive comparison)\n",
    "    if generated_prediction.lower() == ground_truth.lower():\n",
    "        correct_predictions += 1\n",
    "\n",
    "# Calculate accuracy\n",
    "accuracy = correct_predictions / total_samples * 100\n",
    "print(f\"Accuracy on the test set: {accuracy:.2f}%\")"
   ]
  },
  {
   "cell_type": "code",
   "execution_count": null,
   "metadata": {},
   "outputs": [],
   "source": []
  }
 ],
 "metadata": {
  "colab": {
   "include_colab_link": true,
   "provenance": []
  },
  "kernelspec": {
   "display_name": "Python 3 (ipykernel)",
   "language": "python",
   "name": "python3"
  },
  "language_info": {
   "codemirror_mode": {
    "name": "ipython",
    "version": 3
   },
   "file_extension": ".py",
   "mimetype": "text/x-python",
   "name": "python",
   "nbconvert_exporter": "python",
   "pygments_lexer": "ipython3",
   "version": "3.10.13"
  }
 },
 "nbformat": 4,
 "nbformat_minor": 4
}
